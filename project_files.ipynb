{
 "cells": [
  {
   "cell_type": "code",
   "execution_count": 286,
   "metadata": {},
   "outputs": [],
   "source": [
    "import os\n",
    "import shutil # for moving files to folders\n",
    "import json\n",
    "import matplotlib.pyplot as plt"
   ]
  },
  {
   "cell_type": "markdown",
   "metadata": {},
   "source": [
    "### Return and Save a Sorted Dictionary of File Distribution by Type:"
   ]
  },
  {
   "cell_type": "markdown",
   "metadata": {},
   "source": [
    "{ \n",
    "    \"txt\": 2,\n",
    "    \"py\": 1,\n",
    "    \"ipynb\": 1\n",
    "}"
   ]
  },
  {
   "cell_type": "code",
   "execution_count": 104,
   "metadata": {},
   "outputs": [],
   "source": [
    "def distribution(path):\n",
    "   \n",
    "    files=os.listdir(path)\n",
    "    ls=[i.split('.')[1] for i in files]\n",
    "    ls.sort(reverse=True)\n",
    "    \n",
    "    dic={}\n",
    "    for i in ls:\n",
    "        if i in dic:\n",
    "            dic[i]+=1\n",
    "        else:\n",
    "            dic[i]=1\n",
    "    with open('file_distribution.json', 'w') as f:\n",
    "         json.dump(dic, f, indent=4)\n",
    "    \n",
    "    "
   ]
  },
  {
   "cell_type": "code",
   "execution_count": 118,
   "metadata": {},
   "outputs": [],
   "source": [
    "path=\"Desktop\\proj_1\"\n"
   ]
  },
  {
   "cell_type": "code",
   "execution_count": 167,
   "metadata": {},
   "outputs": [],
   "source": [
    "distribution(path)  "
   ]
  },
  {
   "cell_type": "markdown",
   "metadata": {},
   "source": [
    "### 2. Return a Sorted Dictionary of File Sizes and Their Locations:"
   ]
  },
  {
   "cell_type": "markdown",
   "metadata": {},
   "source": [
    "{\n",
    "    '1.35 GB': ['example_folder/file7.mp4'],\n",
    "    '1.34 GB': ['example_folder/file6.mp4'],\n",
    "    '5.25 MB': ['example_folder/file5.pdf'],\n",
    "    '5.01 MB': ['example_folder/file4.py'],\n",
    "    '3.46 MB': ['example_folder/file3.jpg'],\n",
    "    '3.45 MB': ['example_folder/file2.jpg'],\n",
    "    '2.13 MB': ['example_folder/file1.txt']\n",
    "}"
   ]
  },
  {
   "cell_type": "code",
   "execution_count": 173,
   "metadata": {},
   "outputs": [],
   "source": [
    "def size_location(path):\n",
    "    files=os.listdir(path)\n",
    "    dic={}\n",
    "    for i in range(len(files)):\n",
    "        loc=os.path.join(path, files[i]) #path+\"\\\\\"+files[i]  get file location\n",
    "        file_stats = os.stat(loc)\n",
    "        dic[str(file_stats.st_size/(1024*1024))+' MB']=loc\n",
    "    sorted_dict = dict(sorted(dic.items()))\n",
    "    \n",
    "    with open('file_sizes.json', 'w') as f:\n",
    "        json.dump(sorted_dict, f, indent=4)\n",
    "        \n",
    "        "
   ]
  },
  {
   "cell_type": "code",
   "execution_count": 174,
   "metadata": {},
   "outputs": [],
   "source": [
    "size_location(path)"
   ]
  },
  {
   "cell_type": "markdown",
   "metadata": {},
   "source": [
    "### Challenge\n",
    "\n",
    "Not only save the dictionary which stores the file sizes but also create a bar plot which displays 10 heavyset files and their sizes."
   ]
  },
  {
   "cell_type": "code",
   "execution_count": 245,
   "metadata": {},
   "outputs": [],
   "source": [
    "def size_plot(path,n):\n",
    "    files=os.listdir(path)\n",
    "    dic={}\n",
    "    for i ,file in enumerate(files):\n",
    "        loc=os.path.join(path, files[i]) #path+\"\\\\\"+files[i] \n",
    "        file_stats = os.stat(loc)\n",
    "        dic[file_stats.st_size]=file\n",
    "    sorted_dict = dict(sorted(dic.items(), key=lambda item: item[0], reverse=True))\n",
    "    \n",
    "    plt.bar(list(sorted_dict.values())[:n],list(sorted_dict.keys())[:n])\n",
    "    plt.show()"
   ]
  },
  {
   "cell_type": "code",
   "execution_count": 246,
   "metadata": {},
   "outputs": [
    {
     "data": {
      "image/png": "[encoded data removed]",
      "text/plain": [
       "<Figure size 432x288 with 1 Axes>"
      ]
     },
     "metadata": {
      "needs_background": "light"
     },
     "output_type": "display_data"
    }
   ],
   "source": [
    "size_plot(path,3)\n"
   ]
  },
  {
   "cell_type": "markdown",
   "metadata": {},
   "source": [
    "### 3. (Extra) Organize Files by Type"
   ]
  },
  {
   "cell_type": "markdown",
   "metadata": {},
   "source": [
    "- Create subfolders in the given folder for each file type (e.g., `TextFiles`, `Images`, `Scripts`).\n",
    "- Move files into their respective subfolders based on their extensions."
   ]
  },
  {
   "cell_type": "markdown",
   "metadata": {},
   "source": [
    "/example_folder\n",
    "    /TextFiles\n",
    "        file1.txt\n",
    "    /Images\n",
    "        file2.jpg\n",
    "        file3.jpg\n",
    "    /Scripts\n",
    "        file4.py\n",
    "    /Documents\n",
    "        file5.pdf\n",
    "    /Videos\n",
    "        file6.mp4\n",
    "        file7.mp4"
   ]
  },
  {
   "cell_type": "code",
   "execution_count": 234,
   "metadata": {},
   "outputs": [],
   "source": [
    "path=\"Desktop\\proj_1\""
   ]
  },
  {
   "cell_type": "code",
   "execution_count": 297,
   "metadata": {},
   "outputs": [],
   "source": [
    "def Organize_Files(path):\n",
    "    files=os.listdir(path)\n",
    "    \n",
    "    nested_directory=[\"Desktop\\proj_1\\TextFiles\",\"Desktop\\proj_1\\Images\",\\\n",
    "                  \"Desktop\\proj_1\\Scripts\",\\\n",
    "                  \"Desktop\\proj_1\\Documents\", \"Desktop\\proj_1\\Videos\"]\n",
    "    extantions=['txt','jpg',['py','ipynb'],'pdf','mp4']\n",
    "    \n",
    "    for directory in nested_directory: # making folders\n",
    "        os.makedirs(directory)\n",
    "    \n",
    "    for f in files:\n",
    "        path_f=os.path.join(path, f)  # output example 'Desktop\\\\proj_1\\\\ljkh.txt'\n",
    "        if os.path.isfile(path_f):    # if f is file\n",
    "            ext=f.split('.')[1]\n",
    "            if ext=='txt':\n",
    "                destination=nested_directory[0]\n",
    "            elif ext=='jpg':\n",
    "                destination=nested_directory[1]\n",
    "            elif ext=='py' or ext=='ipynb' :\n",
    "                destination=nested_directory[2]\n",
    "            elif ext=='pdf' :\n",
    "                destination=nested_directory[3]\n",
    "            elif ext=='mp4' :\n",
    "                destination=nested_directory[4]\n",
    "            src_path = os.path.join(path, f)\n",
    "            dst_path = os.path.join(destination, f)\n",
    "            shutil.move(src_path, dst_path)\n",
    "        "
   ]
  },
  {
   "cell_type": "code",
   "execution_count": 298,
   "metadata": {},
   "outputs": [],
   "source": [
    "Organize_Files(path)"
   ]
  },
  {
   "cell_type": "code",
   "execution_count": null,
   "metadata": {},
   "outputs": [],
   "source": []
  }
 ],
 "metadata": {
  "kernelspec": {
   "display_name": "Python 3",
   "language": "python",
   "name": "python3"
  },
  "language_info": {
   "codemirror_mode": {
    "name": "ipython",
    "version": 3
   },
   "file_extension": ".py",
   "mimetype": "text/x-python",
   "name": "python",
   "nbconvert_exporter": "python",
   "pygments_lexer": "ipython3",
   "version": "3.8.5"
  }
 },
 "nbformat": 4,
 "nbformat_minor": 4
}

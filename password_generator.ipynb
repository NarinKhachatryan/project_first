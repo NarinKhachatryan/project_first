{
 "cells": [
  {
   "cell_type": "code",
   "execution_count": 1,
   "metadata": {},
   "outputs": [],
   "source": [
    "import random\n",
    "import string"
   ]
  },
  {
   "cell_type": "code",
   "execution_count": 17,
   "metadata": {},
   "outputs": [],
   "source": [
    "def validator(pw: str):\n",
    "\n",
    "        \n",
    "    pass_list=list(pw)\n",
    "    \n",
    "    all_possible_simbols = \"!@#$%^&*+-.,:;\" + string.ascii_letters + string.digits \n",
    "    # string.ascii_lowercase + string.ascii_uppercase=string.ascii_letters\n",
    "    \n",
    "    simbols=\"!@#$%^&*+-.,:;\"\n",
    "#     if set(pass_list) > all_possible_simbols:\n",
    "#         raise ValueError('password include wrong special character')\n",
    "    assert set(pass_list) < set(list(all_possible_simbols)) ,'password include wrong special character'\n",
    "    \n",
    "    if len(pw)==0:\n",
    "        raise ValueError('password cannot be empty')\n",
    "    \n",
    "    if len(pw)<6:\n",
    "        raise ValueError('password must have a minimum length of 6 characters')\n",
    "        \n",
    "\n",
    "        \n",
    "    if len(set(pass_list) & set(string.digits))==0:\n",
    "        raise ValueError('password must include at least one digit')\n",
    "                          \n",
    "    if len(set(pass_list) & set(string.ascii_uppercase))==0:\n",
    "        raise ValueError('password must include at least one uppercase letter')\n",
    "                          \n",
    "    if len(set(pass_list) & set(string.ascii_lowercase))==0:\n",
    "        raise ValueError('password must include at least one lowercase letter')\n",
    "        \n",
    "    if len(set(pass_list) & set(simbols))==0:\n",
    "        raise ValueError('password must include at least one special character')\n",
    "    \n",
    "    "
   ]
  },
  {
   "cell_type": "code",
   "execution_count": 24,
   "metadata": {},
   "outputs": [],
   "source": [
    "def generator(lengh=8):\n",
    "    \n",
    "    all_possible_simbols = \"!@#$%^&*+-.,:;\" + string.ascii_lowercase + string.ascii_uppercase+ string.digits\n",
    "    char=\"!@#$%^&*+-.,:;\"\n",
    "    \n",
    "   # password=''.join(random.choices(all_possible_simbols,k=lengh ))\n",
    "    while True:\n",
    "        password=''.join(random.choices(all_possible_simbols,k=lengh))\n",
    "        if (sum(c.islower() for c in password) >=1\n",
    "                and sum(c.isupper() for c in password) >=1\n",
    "                and sum(c.isdigit() for c in password) >=1\n",
    "                and (len(set(password) & set(char)))!= 0):\n",
    "            break\n",
    "    return password"
   ]
  },
  {
   "cell_type": "code",
   "execution_count": 25,
   "metadata": {},
   "outputs": [
    {
     "data": {
      "text/plain": [
       "'6c&k:&7A'"
      ]
     },
     "execution_count": 25,
     "metadata": {},
     "output_type": "execute_result"
    }
   ],
   "source": [
    "ps=generator()\n",
    "ps"
   ]
  },
  {
   "cell_type": "code",
   "execution_count": 26,
   "metadata": {},
   "outputs": [],
   "source": [
    "validator(ps)"
   ]
  },
  {
   "cell_type": "code",
   "execution_count": 28,
   "metadata": {},
   "outputs": [],
   "source": [
    "def Interactive_User_Interface():\n",
    "    answ=input('Do you want to generate a new password?(yes/no):')\n",
    "    if answ=='yes':\n",
    "        l=input('Enter the desired password length (minimum 6):')\n",
    "               \n",
    "        try:\n",
    "            int(l)\n",
    "        except :\n",
    "            print('InputError:Password length must be a number')\n",
    "        else:\n",
    "            if int(l)==0:\n",
    "                raise ValueError('password cannot be empty')\n",
    "\n",
    "            password=generator(lengh=int(l))\n",
    "            print('Generated Password:',password)\n",
    "            print('password is valid')\n",
    "        #return password\n",
    "    elif answ=='no':\n",
    "        pas=input('Enter your password to validate:')\n",
    "        validator(pas)\n",
    "        print('password is valid')\n",
    "        #return pas\n",
    "        \n"
   ]
  },
  {
   "cell_type": "code",
   "execution_count": 35,
   "metadata": {},
   "outputs": [
    {
     "name": "stdout",
     "output_type": "stream",
     "text": [
      "Do you want to generate a new password?(yes/no):yes\n",
      "Enter the desired password length (minimum 6):9\n",
      "Generated Password: qt3qL31l;\n",
      "password is valid\n"
     ]
    }
   ],
   "source": [
    "Interactive_User_Interface()"
   ]
  },
  {
   "cell_type": "code",
   "execution_count": null,
   "metadata": {},
   "outputs": [],
   "source": []
  },
  {
   "cell_type": "code",
   "execution_count": null,
   "metadata": {},
   "outputs": [],
   "source": []
  }
 ],
 "metadata": {
  "kernelspec": {
   "display_name": "Python 3",
   "language": "python",
   "name": "python3"
  },
  "language_info": {
   "codemirror_mode": {
    "name": "ipython",
    "version": 3
   },
   "file_extension": ".py",
   "mimetype": "text/x-python",
   "name": "python",
   "nbconvert_exporter": "python",
   "pygments_lexer": "ipython3",
   "version": "3.8.5"
  }
 },
 "nbformat": 4,
 "nbformat_minor": 4
}
